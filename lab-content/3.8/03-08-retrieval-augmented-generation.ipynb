{
 "cells": [
  {
   "cell_type": "markdown",
   "id": "4ad2cc4e-31ec-4648-b0fe-6632f2bdbc36",
   "metadata": {
    "tags": []
   },
   "source": [
    "## Querying the RAG System with LangChain ##\n",
    "An LLM is a very capable tool, but its knowledge is limited to the public data it was trained on. It doesn't know about Parasol Company's internal IT procedures or the solutions to our past incidents. How can we make it answer questions using our specific, private data?\n",
    "\n",
    "There are a few ways to solve this problem:\n",
    "\n",
    "Full Retraining: This involves re-training the entire model from scratch with our data included. This is incredibly expensive and time-consuming, feasible for only a handful of organizations.\n",
    "\n",
    "Fine-Tuning: We can \"tune\" an existing model on our data. This is much faster and cheaper. It's excellent for teaching the model a specific style, tone, or new skill, but less effective for injecting large amounts of factual knowledge. The model must also be re-tuned whenever the data is updated.\n",
    "\n",
    "Retrieval-Augmented Generation (RAG): This is the technique we will use. We put our private knowledge into an external database (in our case, a Milvus vector database) and \"retrieve\" the most relevant pieces of information when a user asks a question. We then feed this retrieved context, along with the original question, to the LLM. The LLM uses this specific context to generate a highly relevant and accurate answer. This is powerful because we can continuously update our knowledge base without ever having to retrain the model.\n",
    "\n",
    "In the previous step, your data science pipeline successfully fetched closed incident tickets from our mock ServiceNow API, generated vector embeddings from them, and loaded them into a Milvus database.\n",
    "\n",
    "In this notebook, we will use RAG to ask questions about IT support issues and see how the LLM can provide precise answers based on the historical incident data we just ingested."
   ]
  },
  {
   "cell_type": "markdown",
   "id": "2a4e2b81-0e10-4390-a7b8-5ddfda53a3e3",
   "metadata": {},
   "source": [
    "### Requirements and Imports\n",
    "\n",
    "If you have selected the right workbench image to launch as per the Lab's instructions, you should already have all the needed libraries. If not uncomment the first line in the next cell to install all the right packages."
   ]
  },
  {
   "cell_type": "code",
   "execution_count": 13,
   "id": "d61c595d-967e-47de-a598-02b5d1ccec85",
   "metadata": {
    "tags": []
   },
   "outputs": [],
   "source": [
    "# Uncomment the following line only if you have not selected the right workbench image, or are using this notebook outside of the workshop environment.\n",
    "# !pip install --no-cache-dir --no-dependencies --disable-pip-version-check -r requirements.txt\n",
    "\n",
    "import json\n",
    "import transformers\n",
    "from langchain.chains import RetrievalQA\n",
    "from langchain.prompts import PromptTemplate\n",
    "from langchain_community.llms import VLLMOpenAI\n",
    "from langchain_huggingface import HuggingFaceEmbeddings\n",
    "from langchain_community.vectorstores import Milvus # Use the standard Milvus vector store\n",
    "\n",
    "# Turn off warnings when downloading the embedding model\n",
    "transformers.logging.set_verbosity_error()"
   ]
  },
  {
   "cell_type": "markdown",
   "id": "c428fbad-2345-4536-b687-72416d6b9b15",
   "metadata": {},
   "source": [
    "### Langchain elements\n",
    "\n",
    "Again, we are going to use Langchain to define our task pipeline.\n",
    "\n",
    "First, the **LLM** where we will send our queries."
   ]
  },
  {
   "cell_type": "code",
   "execution_count": null,
   "id": "77f95a70-89fb-4e21-a51c-24e862b7953e",
   "metadata": {
    "tags": []
   },
   "outputs": [],
   "source": [
    "# LLM Inference Server URL\n",
    "inference_server_url = \"http://granite-3-1-8b-instruct-predictor.shared-llm.svc.cluster.local:8080\"\n",
    "\n",
    "# LLM definition\n",
    "llm = VLLMOpenAI(           # We are using the vLLM OpenAI-compatible API client. But the Model is running on OpenShift AI, not OpenAI.\n",
    "    openai_api_key=\"EMPTY\",   # And that is why we don't need an OpenAI key for this.\n",
    "    openai_api_base= f\"{inference_server_url}/v1\",\n",
    "    model_name=\"granite-3-1-8b-instruct\",\n",
    "    top_p=0.92,\n",
    "    temperature=0.01,\n",
    "    max_tokens=512,\n",
    "    presence_penalty=1.03,\n",
    "    streaming=True,\n",
    "    callbacks=[StreamingStdOutCallbackHandler()]\n",
    ")"
   ]
  },
  {
   "cell_type": "markdown",
   "id": "4fa13907-14f1-4995-9756-8778c19a2101",
   "metadata": {},
   "source": [
    "Then the connection to the **vector database** where we have prepared and stored the California Driver Handbook."
   ]
  },
  {
   "cell_type": "code",
   "execution_count": null,
   "id": "f849c1a0-7fe5-425f-853d-6a9e67a38971",
   "metadata": {
    "tags": []
   },
   "outputs": [],
   "source": [
    "from langchain_huggingface import HuggingFaceEmbeddings\n",
    "from langchain_community.vectorstores import Milvus\n",
    "\n",
    "# 1. Define the embedding model (must match the ingestion pipeline)\n",
    "print(\"Loading embedding model...\")\n",
    "embeddings = HuggingFaceEmbeddings(\n",
    "    model_name=\"all-MiniLM-L6-v2\",\n",
    "    model_kwargs={'device': 'cpu'},\n",
    "    show_progress=False,\n",
    ")\n",
    "print(\"Embedding model loaded.\")\n",
    "\n",
    "# 2. Define connection arguments\n",
    "connection_args = {\n",
    "    \"host\": \"vectordb-milvus\", # The Kubernetes service name for Milvus\n",
    "    \"port\": \"19530\"\n",
    "}\n",
    "print(f\"Connecting to Milvus at: {connection_args['host']}:{connection_args['port']}\")\n",
    "\n",
    "# 3. Connect to the Milvus vector store, specifying the correct text and vector fields\n",
    "vector_db = Milvus(\n",
    "    embedding_function=embeddings,\n",
    "    connection_args=connection_args,\n",
    "    collection_name=\"servicenow_incidents\",\n",
    "    vector_field=\"embedding\",      # Specify the name of your vector field\n",
    "    text_field=\"resolution_notes\"  # <-- THIS IS THE FIX: Tell LangChain to use this field for page_content\n",
    ")\n",
    "print(\"Successfully connected to Milvus collection 'servicenow_incidents'.\")\n",
    "\n",
    "\n",
    "# 4. Create a retriever to search for relevant documents\n",
    "retriever = vector_db.as_retriever(search_kwargs={\"k\": 3})\n",
    "print(\"Retriever created successfully.\")"
   ]
  },
  {
   "cell_type": "markdown",
   "id": "20b950bc-4d73-49e5-a35b-083a784edd50",
   "metadata": {},
   "source": [
    "We will now define the **template** to use to make our query. Note that this template now contains a **servicenow_incidents** section. That's were the documents returned from the vector database will be injected."
   ]
  },
  {
   "cell_type": "markdown",
   "id": "849fbd67-220c-4a02-8e4e-7e0d1aa91588",
   "metadata": {},
   "source": [
    "We are now ready to query the model!\n",
    "\n"
   ]
  },
  {
   "cell_type": "code",
   "execution_count": null,
   "id": "dac009d5-d558-4258-9735-4fb0de46c309",
   "metadata": {
    "tags": []
   },
   "outputs": [],
   "source": [
    "# The 'llm' and 'retriever' objects should already be defined from the previous cells.\n",
    "\n",
    "# 1. Define a prompt template suitable for a general Q&A over the retrieved documents.\n",
    "#    This template tells the LLM how to use the context from Milvus to answer the question.\n",
    "prompt_template_str = \"\"\"\n",
    "<|system|>\n",
    "You are a helpful, respectful and honest assistant named \"Parasol Assistant\".\n",
    "You will be given context from past incident tickets and a question.\n",
    "Your answer should be based only on the provided context.\n",
    "If the context does not contain the answer, say that you don't have enough information.\n",
    "\n",
    "Context:\n",
    "{context}\n",
    "\n",
    "Question:\n",
    "{question}\n",
    "<|assistant|>\n",
    "\"\"\"\n",
    "\n",
    "prompt = PromptTemplate(\n",
    "    template=prompt_template_str, input_variables=[\"context\", \"question\"]\n",
    ")\n",
    "\n",
    "# 2. Create the RAG chain with the new prompt.\n",
    "rag_chain = RetrievalQA.from_chain_type(\n",
    "    llm=llm,\n",
    "    chain_type=\"stuff\",\n",
    "    retriever=retriever,\n",
    "    chain_type_kwargs={\"prompt\": prompt},\n",
    "    return_source_documents=True,\n",
    ")\n",
    "\n",
    "# 3. Define the query and invoke the chain.\n",
    "query = \"Give me information on INC001004\"\n",
    "print(f\"Executing RAG chain with query: '{query}'\")\n",
    "\n",
    "resp = rag_chain.invoke({\"query\": query})\n",
    "\n",
    "# 4. Print the results.\n",
    "print(\"\\n--- Answer from LLM ---\\n\")\n",
    "print(resp[\"result\"])\n",
    "print(\"\\n--- Sources Retrieved from Milvus ---\\n\")\n",
    "for doc in resp[\"source_documents\"]:\n",
    "    print(f\"  - Incident: {doc.metadata.get('incident_pk', 'N/A')}\")\n",
    "    print(f\"    Description: {doc.metadata.get('short_description', 'N/A')}\")\n",
    "    print(\"-\" * 20)"
   ]
  },
  {
   "cell_type": "markdown",
   "id": "daf8cd32-0bdb-484d-a8bd-fb108ce2f131",
   "metadata": {},
   "source": [
    "That's it! We now know how to complement our LLM with some external knowledge!\n",
    "\n",
    "You have successfully built a complete Retrieval-Augmented Generation (RAG) pipeline. By connecting our application to a Milvus vector database populated with our own private data, we've enabled an LLM to answer questions with specific, factual context that it was never trained on. For Parasol Company, this means a support engineer can now ask complex questions and receive answers based on the collective knowledge from thousands of past incident tickets. This is the foundation of a powerful system that can reduce resolution times, improve support consistency, and accelerate new hire training. While this is a huge step forward, the next logical step is to explore how we can not only provide the model with knowledge, but also refine its tone, style, and reasoning capabilities, which we will discuss in the final section."
   ]
  }
 ],
 "metadata": {
  "kernelspec": {
   "display_name": "Python 3.9",
   "language": "python",
   "name": "python3"
  },
  "language_info": {
   "codemirror_mode": {
    "name": "ipython",
    "version": 3
   },
   "file_extension": ".py",
   "mimetype": "text/x-python",
   "name": "python",
   "nbconvert_exporter": "python",
   "pygments_lexer": "ipython3",
   "version": "3.9.16"
  }
 },
 "nbformat": 4,
 "nbformat_minor": 5
}
